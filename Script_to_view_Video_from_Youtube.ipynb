{
 "cells": [
  {
   "cell_type": "code",
   "execution_count": 4,
   "metadata": {},
   "outputs": [
    {
     "name": "stdout",
     "output_type": "stream",
     "text": [
      "Requirement already satisfied: pafy in /opt/anaconda3/lib/python3.7/site-packages (0.5.5)\n",
      "Collecting youtube-dl\n",
      "\u001b[?25l  Downloading https://files.pythonhosted.org/packages/d0/b3/c3d42f6bbf91da104c272950d30923c222061d7323aa43dcf975a6e8e2c2/youtube_dl-2020.3.24-py2.py3-none-any.whl (1.8MB)\n",
      "\u001b[K     |████████████████████████████████| 1.8MB 1.3MB/s eta 0:00:01     |█████████████████████▉          | 1.2MB 1.3MB/s eta 0:00:01\n",
      "\u001b[?25hInstalling collected packages: youtube-dl\n",
      "Successfully installed youtube-dl-2020.3.24\n"
     ]
    }
   ],
   "source": [
    "!pip install pafy\n",
    "!pip install --upgrade youtube-dl\n"
   ]
  },
  {
   "cell_type": "code",
   "execution_count": 12,
   "metadata": {},
   "outputs": [
    {
     "name": "stdout",
     "output_type": "stream",
     "text": [
      "Collecting python-vlc\n",
      "\u001b[?25l  Downloading https://files.pythonhosted.org/packages/23/12/fd44ed5d105891a061b1aad7d554905e4586a3b43766250616a565d8c5c9/python_vlc-3.0.7110-py3-none-any.whl (80kB)\n",
      "\u001b[K     |████████████████████████████████| 81kB 1.3MB/s eta 0:00:01\n",
      "\u001b[?25hInstalling collected packages: python-vlc\n",
      "Successfully installed python-vlc-3.0.7110\n",
      "Note: you may need to restart the kernel to use updated packages.\n"
     ]
    }
   ],
   "source": [
    " pip install python-vlc"
   ]
  },
  {
   "cell_type": "code",
   "execution_count": 31,
   "metadata": {},
   "outputs": [],
   "source": [
    "import pafy\n",
    "import vlc\n",
    "import time"
   ]
  },
  {
   "cell_type": "code",
   "execution_count": 32,
   "metadata": {},
   "outputs": [],
   "source": [
    "\n",
    "for i in range(11):\n",
    "    url = \"https://www.youtube.com/watch?v=fu3D7qtQbSs&t=26s\"\n",
    "    video = pafy.new(url)\n",
    "    best = video.getbest()\n",
    "    playurl = best.url\n",
    "    Instance = vlc.Instance()\n",
    "    player = Instance.media_player_new()\n",
    "    Media = Instance.media_new(playurl)\n",
    "    Media.get_mrl()\n",
    "    player.set_media(Media)\n",
    "    player.play()\n",
    "    time.sleep(87)\n",
    "    \n",
    "\n"
   ]
  },
  {
   "cell_type": "code",
   "execution_count": 7,
   "metadata": {},
   "outputs": [
    {
     "data": {
      "text/plain": [
       "'Magic Corona Virus Drink. Healthy and simple recipe to boost immunity and fight Corona Virus'"
      ]
     },
     "execution_count": 7,
     "metadata": {},
     "output_type": "execute_result"
    }
   ],
   "source": [
    "video.title"
   ]
  },
  {
   "cell_type": "code",
   "execution_count": 24,
   "metadata": {},
   "outputs": [
    {
     "data": {
      "text/plain": [
       "58"
      ]
     },
     "execution_count": 24,
     "metadata": {},
     "output_type": "execute_result"
    }
   ],
   "source": [
    "video.viewcount"
   ]
  },
  {
   "cell_type": "code",
   "execution_count": 26,
   "metadata": {},
   "outputs": [],
   "source": [
    "player.stop()"
   ]
  },
  {
   "cell_type": "code",
   "execution_count": null,
   "metadata": {},
   "outputs": [],
   "source": []
  },
  {
   "cell_type": "code",
   "execution_count": null,
   "metadata": {},
   "outputs": [],
   "source": []
  }
 ],
 "metadata": {
  "kernelspec": {
   "display_name": "Python 3",
   "language": "python",
   "name": "python3"
  },
  "language_info": {
   "codemirror_mode": {
    "name": "ipython",
    "version": 3
   },
   "file_extension": ".py",
   "mimetype": "text/x-python",
   "name": "python",
   "nbconvert_exporter": "python",
   "pygments_lexer": "ipython3",
   "version": "3.7.4"
  }
 },
 "nbformat": 4,
 "nbformat_minor": 2
}
